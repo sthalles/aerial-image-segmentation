{
 "cells": [
  {
   "cell_type": "code",
   "execution_count": 1,
   "metadata": {
    "collapsed": true
   },
   "outputs": [],
   "source": [
    "%matplotlib inline \n",
    "import numpy as np\n",
    "import os\n",
    "from matplotlib import pyplot as plt\n",
    "from scipy.misc import imread\n",
    "import os\n",
    "import glob\n",
    "from sklearn.metrics import precision_recall_fscore_support, jaccard_similarity_score, confusion_matrix\n",
    "import metrics"
   ]
  },
  {
   "cell_type": "code",
   "execution_count": 2,
   "metadata": {
    "collapsed": true
   },
   "outputs": [],
   "source": [
    "# define the images and annotations path\n",
    "base_dataset_dir = \"/data/Road_and_Buildings_detection_dataset/mass_merged\"\n",
    "train_dataset_base_dir = os.path.join(base_dataset_dir, \"test\")\n",
    "images_folder_name = \"sat/\"\n",
    "annotations_folder_name = \"map/\"\n",
    "train_images_dir = os.path.join(train_dataset_base_dir, images_folder_name)\n",
    "train_annotations_dir = os.path.join(train_dataset_base_dir, annotations_folder_name)"
   ]
  },
  {
   "cell_type": "code",
   "execution_count": 3,
   "metadata": {},
   "outputs": [
    {
     "name": "stdout",
     "output_type": "stream",
     "text": [
      "number_of_train_examples: 10\n",
      "22828930_15\n",
      "\n"
     ]
    }
   ],
   "source": [
    "# read the train.txt file. This file contains the training images' names\n",
    "file = open(os.path.join(train_dataset_base_dir, \"test.txt\"), 'r')\n",
    "images_filename_list = [line for line in file]\n",
    "number_of_train_examples = len(images_filename_list)\n",
    "print(\"number_of_train_examples:\", number_of_train_examples)\n",
    "print(images_filename_list[0])"
   ]
  },
  {
   "cell_type": "code",
   "execution_count": 4,
   "metadata": {
    "collapsed": true
   },
   "outputs": [],
   "source": [
    "saito_predictions = glob.glob(\"/data/SemanticSegmentation/Projects/ssai-cnn/results/test_results_saito_pre_trained/*\")"
   ]
  },
  {
   "cell_type": "code",
   "execution_count": 5,
   "metadata": {},
   "outputs": [
    {
     "name": "stdout",
     "output_type": "stream",
     "text": [
      "['22828930_15\\n', '22828990_15\\n', '22829050_15\\n', '23429020_15\\n', '23429080_15\\n', '23578960_15\\n', '23579005_15\\n', '23729035_15\\n', '23879080_15\\n', '24179065_15\\n']\n",
      "\n",
      "\n",
      "['/data/SemanticSegmentation/AerialSemanticSegmentation/tboard_logs/19209/test/22828930_15_prediction_np.npy', '/data/SemanticSegmentation/AerialSemanticSegmentation/tboard_logs/19209/test/22828990_15_prediction_np.npy', '/data/SemanticSegmentation/AerialSemanticSegmentation/tboard_logs/19209/test/22829050_15_prediction_np.npy', '/data/SemanticSegmentation/AerialSemanticSegmentation/tboard_logs/19209/test/23429020_15_prediction_np.npy', '/data/SemanticSegmentation/AerialSemanticSegmentation/tboard_logs/19209/test/23429080_15_prediction_np.npy', '/data/SemanticSegmentation/AerialSemanticSegmentation/tboard_logs/19209/test/23578960_15_prediction_np.npy', '/data/SemanticSegmentation/AerialSemanticSegmentation/tboard_logs/19209/test/23579005_15_prediction_np.npy', '/data/SemanticSegmentation/AerialSemanticSegmentation/tboard_logs/19209/test/23729035_15_prediction_np.npy', '/data/SemanticSegmentation/AerialSemanticSegmentation/tboard_logs/19209/test/23879080_15_prediction_np.npy', '/data/SemanticSegmentation/AerialSemanticSegmentation/tboard_logs/19209/test/24179065_15_prediction_np.npy']\n"
     ]
    }
   ],
   "source": [
    "# best sofar: 19321, 7228, \n",
    "\n",
    "our_predictions = glob.glob(\"/data/SemanticSegmentation/AerialSemanticSegmentation/tboard_logs/19209/test/*.npy\")\n",
    "print(sorted(images_filename_list))\n",
    "print(\"\\n\")\n",
    "print(sorted(our_predictions))"
   ]
  },
  {
   "cell_type": "code",
   "execution_count": 6,
   "metadata": {
    "collapsed": true
   },
   "outputs": [],
   "source": [
    "# image_name=our_predictions[7]\n",
    "# print(image_name)"
   ]
  },
  {
   "cell_type": "code",
   "execution_count": 7,
   "metadata": {
    "collapsed": true
   },
   "outputs": [],
   "source": [
    "#ground_truth = imread(train_annotations_dir + \"/\" + \"23729035_15\" + \".tif\")"
   ]
  },
  {
   "cell_type": "code",
   "execution_count": 8,
   "metadata": {
    "collapsed": true
   },
   "outputs": [],
   "source": [
    "# plt.imshow(ground_truth)\n",
    "# print(\"ground_truth shape\", ground_truth.shape)\n",
    "# print(ground_truth)"
   ]
  },
  {
   "cell_type": "code",
   "execution_count": 9,
   "metadata": {
    "collapsed": true
   },
   "outputs": [],
   "source": [
    "#prediction_img = imread(\"/home/thalles_silva/log_folder/7228/test/\" + image_name + \"_pred_label.tiff\")\n",
    "#plt.imshow(prediction_img)\n",
    "# prediction = np.load(image_name)\n",
    "# prediction = np.squeeze(prediction)\n",
    "# print(\"prediction shape:\", prediction.shape)\n",
    "# print(prediction)\n",
    "# plt.imshow(prediction)"
   ]
  },
  {
   "cell_type": "code",
   "execution_count": 10,
   "metadata": {
    "collapsed": true
   },
   "outputs": [],
   "source": [
    "# int relax_precision(const np::ndarray& predict,\n",
    "#                     const np::ndarray& label, const int& relax) {\n",
    "#   const int h_lim             = predict.shape(1);\n",
    "#   const int w_lim             = predict.shape(0);\n",
    "#   const int32_t *predict_data =\n",
    "#     reinterpret_cast<int32_t *>(predict.get_data());\n",
    "#   const int32_t *label_data =\n",
    "#     reinterpret_cast<int32_t *>(label.get_data());\n",
    "\n",
    "#   int true_positive = 0;\n",
    "\n",
    "#   for (int y = 0; y < h_lim; ++y) {\n",
    "#     for (int x = 0; x < w_lim; ++x) {\n",
    "#       const int32_t pred_val = predict_data[y * w_lim + x];\n",
    "\n",
    "#       if (pred_val == 1) {\n",
    "#         const int st_y = y - relax >= 0 ? y - relax : 0;\n",
    "#         const int en_y = y + relax < h_lim ? y + relax : h_lim - 1;\n",
    "#         const int st_x = x - relax >= 0 ? x - relax : 0;\n",
    "#         const int en_x = x + relax < w_lim ? x + relax : w_lim - 1;\n",
    "#         int sum        = 0;\n",
    "\n",
    "#         for (int yy = st_y; yy <= en_y; ++yy) {\n",
    "#           for (int xx = st_x; xx <= en_x; ++xx) {\n",
    "#             sum += label_data[yy * w_lim + xx];\n",
    "#           }\n",
    "#         }\n",
    "\n",
    "#         if (sum > 0) true_positive++;\n",
    "#       }\n",
    "#     }\n",
    "#   }\n",
    "\n",
    "#   return true_positive;\n",
    "# }"
   ]
  },
  {
   "cell_type": "code",
   "execution_count": 11,
   "metadata": {
    "collapsed": true
   },
   "outputs": [],
   "source": [
    "def relax_precision(predict, label, relax):\n",
    "    h_lim = predict.shape[0]\n",
    "    w_lim = predict.shape[1]\n",
    "    true_positive = 0\n",
    "    for y in range(h_lim):\n",
    "        for x in range(w_lim):\n",
    "            pred_val = predict[y,x]\n",
    "            \n",
    "            if (pred_val == 1):\n",
    "                st_y = y if y - relax >= 0 else 0\n",
    "                en_y = y + relax if y + relax < h_lim else h_lim - 1\n",
    "                st_x = x - relax if x - relax >= 0 else 0\n",
    "                en_x = x + relax if x + relax < w_lim else w_lim - 1\n",
    "                \n",
    "                sum = 0\n",
    "                for yy in range(st_y, en_y+1):\n",
    "                    for xx in range(st_x, en_x+1):\n",
    "                        sum += label[yy,xx]\n",
    "                        \n",
    "                if (sum > 0): \n",
    "                    true_positive+=1\n",
    "    return true_positive;"
   ]
  },
  {
   "cell_type": "code",
   "execution_count": 12,
   "metadata": {
    "collapsed": true
   },
   "outputs": [],
   "source": [
    "# int relax_recall(const np::ndarray predict,\n",
    "#                  const np::ndarray label, const int& relax) {\n",
    "#   const int h_lim             = label.shape(1);\n",
    "#   const int w_lim             = label.shape(0);\n",
    "#   const int32_t *predict_data =\n",
    "#     reinterpret_cast<int32_t *>(predict.get_data());\n",
    "#   const int32_t *label_data =\n",
    "#     reinterpret_cast<int32_t *>(label.get_data());\n",
    "\n",
    "#   int true_positive = 0;\n",
    "\n",
    "#   for (int y = 0; y < h_lim; ++y) {\n",
    "#     for (int x = 0; x < w_lim; ++x) {\n",
    "#       const int32_t label_val = label_data[y * w_lim + x];\n",
    "\n",
    "#       if (label_val == 1) {\n",
    "#         const int st_y = y - relax >= 0 ? y - relax : 0;\n",
    "#         const int en_y = y + relax < h_lim ? y + relax : h_lim - 1;\n",
    "#         const int st_x = x - relax >= 0 ? x - relax : 0;\n",
    "#         const int en_x = x + relax < w_lim ? x + relax : w_lim - 1;\n",
    "#         int sum        = 0;\n",
    "\n",
    "#         for (int yy = st_y; yy <= en_y; ++yy) {\n",
    "#           for (int xx = st_x; xx <= en_x; ++xx) {\n",
    "#             sum += predict_data[yy * w_lim + xx];\n",
    "#           }\n",
    "#         }\n",
    "\n",
    "#         if (sum > 0) true_positive++;\n",
    "#       }\n",
    "#     }\n",
    "#   }\n",
    "\n",
    "#   return true_positive;\n",
    "# }"
   ]
  },
  {
   "cell_type": "code",
   "execution_count": 13,
   "metadata": {
    "collapsed": true
   },
   "outputs": [],
   "source": [
    "def relax_recall(predict, label, relax):\n",
    "    if predict.shape != label.shape:\n",
    "        raise(\"Error, prediction and label must be the same shape\")\n",
    "    \n",
    "    h_lim = label.shape[0]\n",
    "    w_lim = label.shape[1]\n",
    "    true_positive = 0\n",
    "    \n",
    "    for y in range(h_lim):\n",
    "        for x in range(w_lim):\n",
    "            label_val = label[y, x]\n",
    "            #print(\"(y,x)\", x,y)\n",
    "            if (label_val == 1):\n",
    "                st_y = y - relax if y - relax >= 0 else 0;\n",
    "                en_y = y + relax if y + relax < h_lim else h_lim - 1\n",
    "                st_x = x - relax if x - relax >= 0 else 0\n",
    "                en_x = x + relax if x + relax < w_lim else w_lim - 1;\n",
    "                sum = 0\n",
    "                #print(st_y,en_y,st_x,en_x)\n",
    "                for yy in range(st_y,en_y+1):\n",
    "                    for xx in range(st_x,en_x+1):\n",
    "                        #print(yy * w_lim + xx)\n",
    "                        sum += predict[yy, xx]\n",
    "                #print(\"----\")\n",
    "                if (sum > 0):\n",
    "                    true_positive+=1\n",
    "    return true_positive"
   ]
  },
  {
   "cell_type": "code",
   "execution_count": 14,
   "metadata": {
    "collapsed": true
   },
   "outputs": [],
   "source": [
    "def calc_prec_recall(pred, label, relax):\n",
    "    if pred.shape != label.shape:\n",
    "        raise(\"Error, prediction and label must be the same shape\")\n",
    "    positive = np.sum(pred == 1)\n",
    "    true = np.sum(label == 1)\n",
    "    prec_tp = relax_precision(pred, label, relax)\n",
    "    recall_tp = relax_recall(pred, label, relax)\n",
    "    \n",
    "    if prec_tp > positive or recall_tp > true:\n",
    "        print(positive, prec_tp, true, recall_tp)\n",
    "        sys.exit('Calculation is wrong.')\n",
    "\n",
    "    prec = prec_tp / float(positive) if positive > 0 else 1.0\n",
    "    recall = recall_tp / float(true) if true > 0 else 1.0\n",
    "\n",
    "    return (prec, recall)"
   ]
  },
  {
   "cell_type": "code",
   "execution_count": 15,
   "metadata": {
    "collapsed": true
   },
   "outputs": [],
   "source": [
    "# Model_id: 11270: EldNet-8\n",
    "# Model_id: 19325: EldNet-4\n",
    "# Model id: 12887: Deeplab-8 \n",
    "# Model id: 26459: Deeplab-4"
   ]
  },
  {
   "cell_type": "code",
   "execution_count": 16,
   "metadata": {
    "collapsed": true
   },
   "outputs": [],
   "source": [
    "y_true = np.array([[0,1], [0,0]])\n",
    "y_pred = np.array([[1,1], [1,0]])"
   ]
  },
  {
   "cell_type": "code",
   "execution_count": 17,
   "metadata": {},
   "outputs": [
    {
     "name": "stdout",
     "output_type": "stream",
     "text": [
      "[0 1 0 0]\n",
      "[1 1 1 0]\n",
      "tn: 1 fp: 2 fn: 0 tp: 1\n",
      "--->  0.333333333333\n",
      "frequency_weighted_IU 0.333333333333\n",
      "mean_IU 0.333333333333\n",
      "pixel_accuracy: 0.5\n",
      "mean_accuracy 0.666666666667\n",
      "jacard_index 0.5\n"
     ]
    }
   ],
   "source": [
    "print(y_true.flatten())\n",
    "print(y_pred.flatten())\n",
    "tn, fp, fn, tp = confusion_matrix(y_true.flatten(), y_pred.flatten()).ravel()\n",
    "print(\"tn:\", tn, \"fp:\", fp, \"fn:\", fn, \"tp:\", tp)\n",
    "\n",
    "print(\"---> \", (tp / (tp + fp + fn)))\n",
    "\n",
    "jacard_index = jaccard_similarity_score(y_true.flatten(), y_pred.flatten(), normalize=True)\n",
    "mean_IU = metrics.mean_IU(y_pred, y_true)\n",
    "pixel_accuracy = metrics.pixel_accuracy(y_pred, y_true)\n",
    "mean_accuracy = metrics.mean_accuracy(y_pred, y_true)\n",
    "frequency_weighted_IU = metrics.frequency_weighted_IU(y_pred, y_true)\n",
    "\n",
    "\n",
    "print(\"frequency_weighted_IU\",frequency_weighted_IU)\n",
    "print(\"mean_IU\",mean_IU)\n",
    "print(\"pixel_accuracy:\",pixel_accuracy)\n",
    "print(\"mean_accuracy\",mean_accuracy)\n",
    "print(\"jacard_index\", jacard_index)"
   ]
  },
  {
   "cell_type": "code",
   "execution_count": 25,
   "metadata": {},
   "outputs": [
    {
     "name": "stdout",
     "output_type": "stream",
     "text": [
      "0.333333\n"
     ]
    }
   ],
   "source": [
    "import tensorflow as tf\n",
    "y_true_tf = tf.constant([[0,1], [0,0]])\n",
    "y_pred_tf = tf.constant([[1,1], [1,0]])\n",
    "mean_ui, update_op = tf.metrics.mean_iou(y_true_tf, y_pred_tf, 2)\n",
    "with tf.Session() as sess:\n",
    "    sess.run(tf.global_variables_initializer())\n",
    "    sess.run(tf.local_variables_initializer())\n",
    "    update_op.eval()\n",
    "    print(mean_ui.eval())"
   ]
  },
  {
   "cell_type": "code",
   "execution_count": 22,
   "metadata": {},
   "outputs": [
    {
     "name": "stdout",
     "output_type": "stream",
     "text": [
      "Statistics for class: 1\n",
      "Mean prec: 0.95760614423 Mean recall: 0.939589730853 Mean f1: 0.94844680884 Jaccard Index 0.643702976743\n",
      "Mean IoU: 0.781901556874 Mean freq IoU: 0.870058219769 Mean acc: 0.860078877442 Mean pixel acc: 0.927870798381\n",
      "---------------\n",
      "Statistics for class: 2\n",
      "Mean prec: 0.898576473528 Mean recall: 0.86185994653 Mean f1: 0.879539077683 Jaccard Index 0.549832050963\n",
      "Mean IoU: 0.743775267147 Mean freq IoU: 0.892331439311 Mean acc: 0.828561984533 Mean pixel acc: 0.938635646193\n",
      "---------------\n"
     ]
    }
   ],
   "source": [
    "relax_factor = 3\n",
    "model_id = 19209\n",
    "for class_id in [1,2]:\n",
    "    print(\"Statistics for class:\", class_id)\n",
    "    \n",
    "    mean_precision = []\n",
    "    mean_recall = []\n",
    "    mean_f1 = []\n",
    "    jaccard_average_similarity = []\n",
    "    mean_IoU_list = []\n",
    "    freq_IoU_list = []\n",
    "    mean_acc_list = []\n",
    "    pixel_acc_list = []\n",
    "    \n",
    "    # loop though all predicted images and ground thruths\n",
    "    for image_name in images_filename_list:\n",
    "\n",
    "        #prediction = np.load(\"/home/thalles_silva/log_folder/\" + str(model_id) + \"/test/\" + image_name.strip() + \"_prediction_np.npy\")\n",
    "        #/data/SemanticSegmentation/AerialSemanticSegmentation/tboard_logs/19209\n",
    "        prediction = np.load(\"/data/SemanticSegmentation/AerialSemanticSegmentation/tboard_logs/\" + str(model_id) + \"/test/\" + image_name.strip() + \"_prediction_np.npy\")\n",
    "        #prediction = np.load(\"/home/thalles_silva/DataPublic/SemanticSegmentation/Projects/ssai-cnn/results/test_results_saito_pre_trained/\" + image_name.strip() + \"_pred_argmax.npy\")\n",
    "        prediction = np.squeeze(prediction)\n",
    "        #print(prediction.shape)\n",
    "        \n",
    "        prediction_binary = np.zeros(prediction.shape, dtype=np.uint8)\n",
    "        label_binary = np.zeros(prediction.shape, dtype=np.uint8)\n",
    "        \n",
    "        ground_truth = imread(train_annotations_dir + \"/\" + image_name.strip() + \".tif\")\n",
    "        ground_truth = ground_truth[14:1486,14:1486]\n",
    "        #print(ground_truth.shape)\n",
    "        \n",
    "        prediction_binary[np.where(prediction==class_id)] = 1\n",
    "        label_binary[np.where(ground_truth==class_id)] = 1\n",
    "\n",
    "        prec, recall = calc_prec_recall(prediction_binary, label_binary, relax_factor)\n",
    "        f_measure = 2 * (prec * recall) / (prec + recall) \n",
    "        \n",
    "        jacard_index = jaccard_similarity_score(label_binary, prediction_binary, normalize=True)\n",
    "        \n",
    "        IoU = metrics.mean_IU(label_binary, prediction_binary)\n",
    "        freq_IoU = metrics.frequency_weighted_IU(prediction_binary, label_binary)\n",
    "        mean_acc = metrics.mean_accuracy(prediction_binary, label_binary)\n",
    "        pixel_acc = metrics.pixel_accuracy(prediction_binary, label_binary)\n",
    "\n",
    "        jaccard_average_similarity.append(jacard_index)\n",
    "        \n",
    "        mean_precision.append(prec)\n",
    "        mean_recall.append(recall)\n",
    "        mean_f1.append(f_measure)\n",
    "        \n",
    "        mean_IoU_list.append(IoU)\n",
    "        freq_IoU_list.append(freq_IoU)\n",
    "        mean_acc_list.append(mean_acc)\n",
    "        pixel_acc_list.append(pixel_acc)\n",
    "        \n",
    "        #print(precision_recall_fscore_support(label_binary, prediction_binary, average='weighted'))\n",
    "        \n",
    "        #print(image_name.strip(), \"-->\", prec, recall, f_measure, jacard_index, IoU)\n",
    "        \n",
    "    print(\"Mean prec:\", np.mean(mean_precision), \"Mean recall:\", np.mean(mean_recall), \"Mean f1:\", np.mean(mean_f1), \"Jaccard Index\", np.mean(jaccard_average_similarity))\n",
    "    print(\"Mean IoU:\", np.mean(mean_IoU_list), \"Mean freq IoU:\", np.mean(freq_IoU_list), \"Mean acc:\", np.mean(mean_acc_list), \"Mean pixel acc:\", np.mean(pixel_acc_list))\n",
    "    print(\"---------------\")"
   ]
  },
  {
   "cell_type": "code",
   "execution_count": 160,
   "metadata": {},
   "outputs": [
    {
     "name": "stdout",
     "output_type": "stream",
     "text": [
      "(1500, 1500)\n",
      "(1500, 1500)\n"
     ]
    },
    {
     "data": {
      "image/png": "[encoded data removed]",
      "text/plain": [
       "<matplotlib.figure.Figure at 0x7ff4f49b9a58>"
      ]
     },
     "metadata": {},
     "output_type": "display_data"
    }
   ],
   "source": [
    "print(prediction.shape)\n",
    "print(ground_truth.shape)\n",
    "\n",
    "class_id = 2\n",
    "prediction_binary = np.zeros((1500,1500), dtype=np.uint8)\n",
    "label_binary = np.zeros((1500,1500), dtype=np.uint8)\n",
    "\n",
    "\n",
    "prediction_binary[np.where(prediction==class_id)] = 1\n",
    "label_binary[np.where(ground_truth==class_id)] = 1\n",
    "\n",
    "plt.imshow(prediction_binary)\n",
    "plt.show()"
   ]
  },
  {
   "cell_type": "code",
   "execution_count": 161,
   "metadata": {
    "collapsed": true
   },
   "outputs": [],
   "source": [
    "prec, recall = calc_prec_recall(prediction_binary, label_binary, 3)"
   ]
  },
  {
   "cell_type": "code",
   "execution_count": 162,
   "metadata": {
    "collapsed": true
   },
   "outputs": [],
   "source": [
    "f_measure = 2 * (prec * recall) / (prec + recall) "
   ]
  },
  {
   "cell_type": "code",
   "execution_count": 163,
   "metadata": {},
   "outputs": [
    {
     "name": "stdout",
     "output_type": "stream",
     "text": [
      "0.7896968655091399 0.7240775016736896 0.7554649435920076\n"
     ]
    }
   ],
   "source": [
    "print(prec, recall, f_measure)"
   ]
  },
  {
   "cell_type": "code",
   "execution_count": 36,
   "metadata": {},
   "outputs": [
    {
     "name": "stdout",
     "output_type": "stream",
     "text": [
      "1.0\n"
     ]
    }
   ],
   "source": [
    "y_pred = np.array([1,1,1,1,1])\n",
    "y_true = np.array([1,1,1,1,1])\n",
    "\n",
    "print(sum((y_pred == y_true).astype(int))/5)"
   ]
  },
  {
   "cell_type": "code",
   "execution_count": null,
   "metadata": {
    "collapsed": true
   },
   "outputs": [],
   "source": []
  }
 ],
 "metadata": {
  "kernelspec": {
   "display_name": "Python (tf_nv)",
   "language": "python",
   "name": "tf_nv"
  },
  "language_info": {
   "codemirror_mode": {
    "name": "ipython",
    "version": 3
   },
   "file_extension": ".py",
   "mimetype": "text/x-python",
   "name": "python",
   "nbconvert_exporter": "python",
   "pygments_lexer": "ipython3",
   "version": "3.6.1"
  }
 },
 "nbformat": 4,
 "nbformat_minor": 2
}
